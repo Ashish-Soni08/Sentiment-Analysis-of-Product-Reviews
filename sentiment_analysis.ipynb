{
 "cells": [
  {
   "cell_type": "markdown",
   "metadata": {},
   "source": [
    "# Import Python Packages"
   ]
  },
  {
   "cell_type": "code",
   "execution_count": 79,
   "metadata": {},
   "outputs": [
    {
     "name": "stdout",
     "output_type": "stream",
     "text": [
      "All packages imported successfully!\n"
     ]
    }
   ],
   "source": [
    "from collections import Counter\n",
    "\n",
    "import daft\n",
    "from daft import col\n",
    "\n",
    "import numpy as np\n",
    "\n",
    "\n",
    "from tqdm import tqdm\n",
    "\n",
    "import matplotlib.pyplot as plt\n",
    "plt.style.use('ggplot')\n",
    "\n",
    "from pprint import pprint\n",
    "\n",
    "print('All packages imported successfully!')"
   ]
  },
  {
   "cell_type": "markdown",
   "metadata": {},
   "source": [
    "# Explore the Dataset"
   ]
  },
  {
   "cell_type": "code",
   "execution_count": null,
   "metadata": {},
   "outputs": [],
   "source": [
    "# Load the training dataset\n",
    "\n",
    "train_df = daft.read_csv(\"./data/train.csv\", infer_schema=True, delimiter=\";\")"
   ]
  },
  {
   "cell_type": "code",
   "execution_count": null,
   "metadata": {},
   "outputs": [
    {
     "name": "stdout",
     "output_type": "stream",
     "text": [
      "ROWS: 21000\n"
     ]
    }
   ],
   "source": [
    "# Number of rows\n",
    "print(f\"ROWS: {train_df.count_rows()}\")"
   ]
  },
  {
   "cell_type": "code",
   "execution_count": null,
   "metadata": {},
   "outputs": [
    {
     "data": {
      "text/html": [
       "<div>\n",
       "<table class=\"dataframe\">\n",
       "<thead><tr><th style=\"text-wrap: nowrap; max-width:192px; overflow:auto; text-align:left\">Score<br />UInt64</th><th style=\"text-wrap: nowrap; max-width:192px; overflow:auto; text-align:left\">Summary<br />UInt64</th><th style=\"text-wrap: nowrap; max-width:192px; overflow:auto; text-align:left\">Text<br />UInt64</th></tr></thead>\n",
       "<tbody>\n",
       "<tr><td><div style=\"text-align:left; max-width:192px; max-height:64px; overflow:auto\">21000</div></td><td><div style=\"text-align:left; max-width:192px; max-height:64px; overflow:auto\">21000</div></td><td><div style=\"text-align:left; max-width:192px; max-height:64px; overflow:auto\">21000</div></td></tr>\n",
       "</tbody>\n",
       "</table>\n",
       "<small>(Showing first 1 of 1 rows)</small>\n",
       "</div>"
      ],
      "text/plain": [
       "╭────────┬─────────┬────────╮\n",
       "│ Score  ┆ Summary ┆ Text   │\n",
       "│ ---    ┆ ---     ┆ ---    │\n",
       "│ UInt64 ┆ UInt64  ┆ UInt64 │\n",
       "╞════════╪═════════╪════════╡\n",
       "│ 21000  ┆ 21000   ┆ 21000  │\n",
       "╰────────┴─────────┴────────╯\n",
       "\n",
       "(Showing first 1 of 1 rows)"
      ]
     },
     "metadata": {},
     "output_type": "display_data"
    }
   ],
   "source": [
    "# Number of columns\n",
    "\n",
    "train_df.count(col(\"*\")).show()"
   ]
  },
  {
   "cell_type": "code",
   "execution_count": null,
   "metadata": {},
   "outputs": [
    {
     "data": {
      "text/html": [
       "<div>\n",
       "<table class=\"dataframe\">\n",
       "<thead><tr><th style=\"text-wrap: nowrap; max-width:192px; overflow:auto; text-align:left\">column_name<br />Utf8</th><th style=\"text-wrap: nowrap; max-width:192px; overflow:auto; text-align:left\">type<br />Utf8</th></tr></thead>\n",
       "<tbody>\n",
       "<tr><td><div style=\"text-align:left; max-width:192px; max-height:64px; overflow:auto\">Score</div></td><td><div style=\"text-align:left; max-width:192px; max-height:64px; overflow:auto\">Int64</div></td></tr>\n",
       "<tr><td><div style=\"text-align:left; max-width:192px; max-height:64px; overflow:auto\">Summary</div></td><td><div style=\"text-align:left; max-width:192px; max-height:64px; overflow:auto\">Utf8</div></td></tr>\n",
       "<tr><td><div style=\"text-align:left; max-width:192px; max-height:64px; overflow:auto\">Text</div></td><td><div style=\"text-align:left; max-width:192px; max-height:64px; overflow:auto\">Utf8</div></td></tr>\n",
       "</tbody>\n",
       "</table>\n",
       "<small>(Showing first 3 of 3 rows)</small>\n",
       "</div>"
      ],
      "text/plain": [
       "╭─────────────┬───────╮\n",
       "│ column_name ┆ type  │\n",
       "│ ---         ┆ ---   │\n",
       "│ Utf8        ┆ Utf8  │\n",
       "╞═════════════╪═══════╡\n",
       "│ Score       ┆ Int64 │\n",
       "├╌╌╌╌╌╌╌╌╌╌╌╌╌┼╌╌╌╌╌╌╌┤\n",
       "│ Summary     ┆ Utf8  │\n",
       "├╌╌╌╌╌╌╌╌╌╌╌╌╌┼╌╌╌╌╌╌╌┤\n",
       "│ Text        ┆ Utf8  │\n",
       "╰─────────────┴───────╯\n",
       "\n",
       "(Showing first 3 of 3 rows)"
      ]
     },
     "metadata": {},
     "output_type": "display_data"
    }
   ],
   "source": [
    "# Display the schema\n",
    "train_df.describe().show()"
   ]
  },
  {
   "cell_type": "code",
   "execution_count": null,
   "metadata": {},
   "outputs": [
    {
     "data": {
      "text/html": [
       "<div>\n",
       "<table class=\"dataframe\">\n",
       "<thead><tr><th style=\"text-wrap: nowrap; max-width:192px; overflow:auto; text-align:left\">Score<br />Int64</th><th style=\"text-wrap: nowrap; max-width:192px; overflow:auto; text-align:left\">Summary<br />Utf8</th><th style=\"text-wrap: nowrap; max-width:192px; overflow:auto; text-align:left\">Text<br />Utf8</th></tr></thead>\n",
       "<tbody>\n",
       "<tr><td><div style=\"text-align:left; max-width:192px; max-height:64px; overflow:auto\">1</div></td><td><div style=\"text-align:left; max-width:192px; max-height:64px; overflow:auto\">Why the white tea blend?</div></td><td><div style=\"text-align:left; max-width:192px; max-height:64px; overflow:auto\">I really cannot emphasize how disappointed I am with Celestial Seasoning's having ruined its perfectly good green tea. The company has apparently totally eliminated production of plain green tea in favor of blends with white tea.</div></td></tr>\n",
       "<tr><td><div style=\"text-align:left; max-width:192px; max-height:64px; overflow:auto\">1</div></td><td><div style=\"text-align:left; max-width:192px; max-height:64px; overflow:auto\">Horrible quality</div></td><td><div style=\"text-align:left; max-width:192px; max-height:64px; overflow:auto\">The shipment I received had soooooo much powder it made the tea undrikable.  Looks like all the great reviews are older.</div></td></tr>\n",
       "<tr><td><div style=\"text-align:left; max-width:192px; max-height:64px; overflow:auto\">4</div></td><td><div style=\"text-align:left; max-width:192px; max-height:64px; overflow:auto\">The Jalapeno Story</div></td><td><div style=\"text-align:left; max-width:192px; max-height:64px; overflow:auto\">I love the taste of jalapenos but not if they're too hot. My grandfather used to eat jalapeno sandwiches with white bread.</div></td></tr>\n",
       "<tr><td><div style=\"text-align:left; max-width:192px; max-height:64px; overflow:auto\">5</div></td><td><div style=\"text-align:left; max-width:192px; max-height:64px; overflow:auto\">Addictive!</div></td><td><div style=\"text-align:left; max-width:192px; max-height:64px; overflow:auto\">These sunflower seeds are incredible.  They are not as hot as one would assume.</div></td></tr>\n",
       "<tr><td><div style=\"text-align:left; max-width:192px; max-height:64px; overflow:auto\">5</div></td><td><div style=\"text-align:left; max-width:192px; max-height:64px; overflow:auto\">Brings back memories of my Mother's lemon pies</div></td><td><div style=\"text-align:left; max-width:192px; max-height:64px; overflow:auto\">My sister and I were discussing how delicious the pies (especially lemon) our Mother baked when we were young. We remembered that she always used My-T-Fine  fillings.</div></td></tr>\n",
       "</tbody>\n",
       "</table>\n",
       "<small>(Showing first 5 of 21000 rows)</small>\n",
       "</div>"
      ],
      "text/plain": [
       "╭───────┬────────────────────────────────┬────────────────────────────────╮\n",
       "│ Score ┆ Summary                        ┆ Text                           │\n",
       "│ ---   ┆ ---                            ┆ ---                            │\n",
       "│ Int64 ┆ Utf8                           ┆ Utf8                           │\n",
       "╞═══════╪════════════════════════════════╪════════════════════════════════╡\n",
       "│ 1     ┆ Why the white tea blend?       ┆ I really cannot emphasize how… │\n",
       "├╌╌╌╌╌╌╌┼╌╌╌╌╌╌╌╌╌╌╌╌╌╌╌╌╌╌╌╌╌╌╌╌╌╌╌╌╌╌╌╌┼╌╌╌╌╌╌╌╌╌╌╌╌╌╌╌╌╌╌╌╌╌╌╌╌╌╌╌╌╌╌╌╌┤\n",
       "│ 1     ┆ Horrible quality               ┆ The shipment I received had s… │\n",
       "├╌╌╌╌╌╌╌┼╌╌╌╌╌╌╌╌╌╌╌╌╌╌╌╌╌╌╌╌╌╌╌╌╌╌╌╌╌╌╌╌┼╌╌╌╌╌╌╌╌╌╌╌╌╌╌╌╌╌╌╌╌╌╌╌╌╌╌╌╌╌╌╌╌┤\n",
       "│ 4     ┆ The Jalapeno Story             ┆ I love the taste of jalapenos… │\n",
       "├╌╌╌╌╌╌╌┼╌╌╌╌╌╌╌╌╌╌╌╌╌╌╌╌╌╌╌╌╌╌╌╌╌╌╌╌╌╌╌╌┼╌╌╌╌╌╌╌╌╌╌╌╌╌╌╌╌╌╌╌╌╌╌╌╌╌╌╌╌╌╌╌╌┤\n",
       "│ 5     ┆ Addictive!                     ┆ These sunflower seeds are inc… │\n",
       "├╌╌╌╌╌╌╌┼╌╌╌╌╌╌╌╌╌╌╌╌╌╌╌╌╌╌╌╌╌╌╌╌╌╌╌╌╌╌╌╌┼╌╌╌╌╌╌╌╌╌╌╌╌╌╌╌╌╌╌╌╌╌╌╌╌╌╌╌╌╌╌╌╌┤\n",
       "│ 5     ┆ Brings back memories of my Mo… ┆ My sister and I were discussi… │\n",
       "╰───────┴────────────────────────────────┴────────────────────────────────╯\n",
       "\n",
       "(Showing first 5 of 21000 rows)"
      ]
     },
     "metadata": {},
     "output_type": "display_data"
    }
   ],
   "source": [
    "# Display the first 5 rows\n",
    "\n",
    "train_df.collect().show(5)"
   ]
  },
  {
   "cell_type": "code",
   "execution_count": null,
   "metadata": {},
   "outputs": [
    {
     "data": {
      "text/html": [
       "<div>\n",
       "<table class=\"dataframe\">\n",
       "<thead><tr><th style=\"text-wrap: nowrap; max-width:192px; overflow:auto; text-align:left\">column<br />Utf8</th><th style=\"text-wrap: nowrap; max-width:192px; overflow:auto; text-align:left\">type<br />Utf8</th><th style=\"text-wrap: nowrap; max-width:192px; overflow:auto; text-align:left\">min<br />Utf8</th><th style=\"text-wrap: nowrap; max-width:192px; overflow:auto; text-align:left\">max<br />Utf8</th><th style=\"text-wrap: nowrap; max-width:192px; overflow:auto; text-align:left\">count<br />UInt64</th><th style=\"text-wrap: nowrap; max-width:192px; overflow:auto; text-align:left\">count_nulls<br />UInt64</th><th style=\"text-wrap: nowrap; max-width:192px; overflow:auto; text-align:left\">approx_count_distinct<br />UInt64</th></tr></thead>\n",
       "<tbody>\n",
       "<tr><td><div style=\"text-align:left; max-width:192px; max-height:64px; overflow:auto\">Score</div></td><td><div style=\"text-align:left; max-width:192px; max-height:64px; overflow:auto\">Int64</div></td><td><div style=\"text-align:left; max-width:192px; max-height:64px; overflow:auto\">1</div></td><td><div style=\"text-align:left; max-width:192px; max-height:64px; overflow:auto\">5</div></td><td><div style=\"text-align:left; max-width:192px; max-height:64px; overflow:auto\">21000</div></td><td><div style=\"text-align:left; max-width:192px; max-height:64px; overflow:auto\">0</div></td><td><div style=\"text-align:left; max-width:192px; max-height:64px; overflow:auto\">5</div></td></tr>\n",
       "<tr><td><div style=\"text-align:left; max-width:192px; max-height:64px; overflow:auto\">Summary</div></td><td><div style=\"text-align:left; max-width:192px; max-height:64px; overflow:auto\">Utf8</div></td><td><div style=\"text-align:left; max-width:192px; max-height:64px; overflow:auto\"></div></td><td><div style=\"text-align:left; max-width:192px; max-height:64px; overflow:auto\">~sugar free yes, low carb no~</div></td><td><div style=\"text-align:left; max-width:192px; max-height:64px; overflow:auto\">21000</div></td><td><div style=\"text-align:left; max-width:192px; max-height:64px; overflow:auto\">0</div></td><td><div style=\"text-align:left; max-width:192px; max-height:64px; overflow:auto\">17714</div></td></tr>\n",
       "<tr><td><div style=\"text-align:left; max-width:192px; max-height:64px; overflow:auto\">Text</div></td><td><div style=\"text-align:left; max-width:192px; max-height:64px; overflow:auto\">Utf8</div></td><td><div style=\"text-align:left; max-width:192px; max-height:64px; overflow:auto\"></div></td><td><div style=\"text-align:left; max-width:192px; max-height:64px; overflow:auto\">yummy, but not really much cheaper then walmart. my 7 month old LOVES them and will eat them all day long, perfect because they disolve so quickly he won't choke.</div></td><td><div style=\"text-align:left; max-width:192px; max-height:64px; overflow:auto\">21000</div></td><td><div style=\"text-align:left; max-width:192px; max-height:64px; overflow:auto\">0</div></td><td><div style=\"text-align:left; max-width:192px; max-height:64px; overflow:auto\">20276</div></td></tr>\n",
       "</tbody>\n",
       "</table>\n",
       "<small>(Showing first 3 of 3 rows)</small>\n",
       "</div>"
      ],
      "text/plain": [
       "╭─────────┬───────┬──────┬────────────┬────────┬─────────────┬───────────────────────╮\n",
       "│ column  ┆ type  ┆ min  ┆      …     ┆ count  ┆ count_nulls ┆ approx_count_distinct │\n",
       "│ ---     ┆ ---   ┆ ---  ┆            ┆ ---    ┆ ---         ┆ ---                   │\n",
       "│ Utf8    ┆ Utf8  ┆ Utf8 ┆ (1 hidden) ┆ UInt64 ┆ UInt64      ┆ UInt64                │\n",
       "╞═════════╪═══════╪══════╪════════════╪════════╪═════════════╪═══════════════════════╡\n",
       "│ Score   ┆ Int64 ┆ 1    ┆ …          ┆ 21000  ┆ 0           ┆ 5                     │\n",
       "├╌╌╌╌╌╌╌╌╌┼╌╌╌╌╌╌╌┼╌╌╌╌╌╌┼╌╌╌╌╌╌╌╌╌╌╌╌┼╌╌╌╌╌╌╌╌┼╌╌╌╌╌╌╌╌╌╌╌╌╌┼╌╌╌╌╌╌╌╌╌╌╌╌╌╌╌╌╌╌╌╌╌╌╌┤\n",
       "│ Summary ┆ Utf8  ┆      ┆ …          ┆ 21000  ┆ 0           ┆ 17714                 │\n",
       "├╌╌╌╌╌╌╌╌╌┼╌╌╌╌╌╌╌┼╌╌╌╌╌╌┼╌╌╌╌╌╌╌╌╌╌╌╌┼╌╌╌╌╌╌╌╌┼╌╌╌╌╌╌╌╌╌╌╌╌╌┼╌╌╌╌╌╌╌╌╌╌╌╌╌╌╌╌╌╌╌╌╌╌╌┤\n",
       "│ Text    ┆ Utf8  ┆      ┆ …          ┆ 21000  ┆ 0           ┆ 20276                 │\n",
       "╰─────────┴───────┴──────┴────────────┴────────┴─────────────┴───────────────────────╯\n",
       "\n",
       "(Showing first 3 of 3 rows)"
      ]
     },
     "metadata": {},
     "output_type": "display_data"
    }
   ],
   "source": [
    "# Display the coluumn statistics\n",
    "\n",
    "train_df.summarize().show()"
   ]
  },
  {
   "cell_type": "code",
   "execution_count": 42,
   "metadata": {},
   "outputs": [
    {
     "data": {
      "text/html": [
       "<div>\n",
       "<table class=\"dataframe\">\n",
       "<thead><tr><th style=\"text-wrap: nowrap; max-width:192px; overflow:auto; text-align:left\">Score<br />Int64</th><th style=\"text-wrap: nowrap; max-width:192px; overflow:auto; text-align:left\">Summary<br />UInt64</th><th style=\"text-wrap: nowrap; max-width:192px; overflow:auto; text-align:left\">Text<br />UInt64</th></tr></thead>\n",
       "<tbody>\n",
       "<tr><td><div style=\"text-align:left; max-width:192px; max-height:64px; overflow:auto\">5</div></td><td><div style=\"text-align:left; max-width:192px; max-height:64px; overflow:auto\">13126</div></td><td><div style=\"text-align:left; max-width:192px; max-height:64px; overflow:auto\">13126</div></td></tr>\n",
       "<tr><td><div style=\"text-align:left; max-width:192px; max-height:64px; overflow:auto\">4</div></td><td><div style=\"text-align:left; max-width:192px; max-height:64px; overflow:auto\">3143</div></td><td><div style=\"text-align:left; max-width:192px; max-height:64px; overflow:auto\">3143</div></td></tr>\n",
       "<tr><td><div style=\"text-align:left; max-width:192px; max-height:64px; overflow:auto\">3</div></td><td><div style=\"text-align:left; max-width:192px; max-height:64px; overflow:auto\">1593</div></td><td><div style=\"text-align:left; max-width:192px; max-height:64px; overflow:auto\">1593</div></td></tr>\n",
       "<tr><td><div style=\"text-align:left; max-width:192px; max-height:64px; overflow:auto\">2</div></td><td><div style=\"text-align:left; max-width:192px; max-height:64px; overflow:auto\">1177</div></td><td><div style=\"text-align:left; max-width:192px; max-height:64px; overflow:auto\">1177</div></td></tr>\n",
       "<tr><td><div style=\"text-align:left; max-width:192px; max-height:64px; overflow:auto\">1</div></td><td><div style=\"text-align:left; max-width:192px; max-height:64px; overflow:auto\">1961</div></td><td><div style=\"text-align:left; max-width:192px; max-height:64px; overflow:auto\">1961</div></td></tr>\n",
       "</tbody>\n",
       "</table>\n",
       "<small>(Showing first 5 of 5 rows)</small>\n",
       "</div>"
      ],
      "text/plain": [
       "╭───────┬─────────┬────────╮\n",
       "│ Score ┆ Summary ┆ Text   │\n",
       "│ ---   ┆ ---     ┆ ---    │\n",
       "│ Int64 ┆ UInt64  ┆ UInt64 │\n",
       "╞═══════╪═════════╪════════╡\n",
       "│ 5     ┆ 13126   ┆ 13126  │\n",
       "├╌╌╌╌╌╌╌┼╌╌╌╌╌╌╌╌╌┼╌╌╌╌╌╌╌╌┤\n",
       "│ 4     ┆ 3143    ┆ 3143   │\n",
       "├╌╌╌╌╌╌╌┼╌╌╌╌╌╌╌╌╌┼╌╌╌╌╌╌╌╌┤\n",
       "│ 3     ┆ 1593    ┆ 1593   │\n",
       "├╌╌╌╌╌╌╌┼╌╌╌╌╌╌╌╌╌┼╌╌╌╌╌╌╌╌┤\n",
       "│ 2     ┆ 1177    ┆ 1177   │\n",
       "├╌╌╌╌╌╌╌┼╌╌╌╌╌╌╌╌╌┼╌╌╌╌╌╌╌╌┤\n",
       "│ 1     ┆ 1961    ┆ 1961   │\n",
       "╰───────┴─────────┴────────╯\n",
       "\n",
       "(Showing first 5 of 5 rows)"
      ]
     },
     "metadata": {},
     "output_type": "display_data"
    }
   ],
   "source": [
    "train_df.groupby(\"Score\").count().sort(\"Score\", desc=True).show()"
   ]
  },
  {
   "cell_type": "code",
   "execution_count": 75,
   "metadata": {},
   "outputs": [],
   "source": [
    "dataset = train_df.with_column(\"num_tokens_text\", train_df[\"Text\"].str.split(\" \").list.length()).collect()"
   ]
  },
  {
   "cell_type": "code",
   "execution_count": 76,
   "metadata": {},
   "outputs": [
    {
     "data": {
      "text/html": [
       "<div>\n",
       "<table class=\"dataframe\">\n",
       "<thead><tr><th style=\"text-wrap: nowrap; max-width:192px; overflow:auto; text-align:left\">Score<br />Int64</th><th style=\"text-wrap: nowrap; max-width:192px; overflow:auto; text-align:left\">Summary<br />Utf8</th><th style=\"text-wrap: nowrap; max-width:192px; overflow:auto; text-align:left\">Text<br />Utf8</th><th style=\"text-wrap: nowrap; max-width:192px; overflow:auto; text-align:left\">num_tokens_text<br />UInt64</th></tr></thead>\n",
       "<tbody>\n",
       "<tr><td><div style=\"text-align:left; max-width:192px; max-height:64px; overflow:auto\">4</div></td><td><div style=\"text-align:left; max-width:192px; max-height:64px; overflow:auto\">Smell bad, but dogs don't mind</div></td><td><div style=\"text-align:left; max-width:192px; max-height:64px; overflow:auto\">This is a great product.  My dogs love chewing them and they last for a long time.</div></td><td><div style=\"text-align:left; max-width:192px; max-height:64px; overflow:auto\">18</div></td></tr>\n",
       "<tr><td><div style=\"text-align:left; max-width:192px; max-height:64px; overflow:auto\">5</div></td><td><div style=\"text-align:left; max-width:192px; max-height:64px; overflow:auto\">needed more</div></td><td><div style=\"text-align:left; max-width:192px; max-height:64px; overflow:auto\">I had bought some of this locally and liked it so much that i had to lookk for a better price.  I have found the better price here on amazon.</div></td><td><div style=\"text-align:left; max-width:192px; max-height:64px; overflow:auto\">31</div></td></tr>\n",
       "<tr><td><div style=\"text-align:left; max-width:192px; max-height:64px; overflow:auto\">1</div></td><td><div style=\"text-align:left; max-width:192px; max-height:64px; overflow:auto\">a distant second</div></td><td><div style=\"text-align:left; max-width:192px; max-height:64px; overflow:auto\">this is nowhere near the quality and taste of Splenda's french vanilla \"flavors for coffee\". &lt;a href=\"http://www.</div></td><td><div style=\"text-align:left; max-width:192px; max-height:64px; overflow:auto\">17</div></td></tr>\n",
       "<tr><td><div style=\"text-align:left; max-width:192px; max-height:64px; overflow:auto\">1</div></td><td><div style=\"text-align:left; max-width:192px; max-height:64px; overflow:auto\">Bait &amp; Switch</div></td><td><div style=\"text-align:left; max-width:192px; max-height:64px; overflow:auto\">**Vine Voices will receive a total of 3 Lickety Stiks in separate flavors</div></td><td><div style=\"text-align:left; max-width:192px; max-height:64px; overflow:auto\">13</div></td></tr>\n",
       "<tr><td><div style=\"text-align:left; max-width:192px; max-height:64px; overflow:auto\">5</div></td><td><div style=\"text-align:left; max-width:192px; max-height:64px; overflow:auto\">Edible Silver Leaf for Cakes/Candies</div></td><td><div style=\"text-align:left; max-width:192px; max-height:64px; overflow:auto\">Great product at a good price.  It used to be possible to buy edible silver and gold leaf (vark) at Indian groceries, but there seem to be problems nowadays importing it.</div></td><td><div style=\"text-align:left; max-width:192px; max-height:64px; overflow:auto\">32</div></td></tr>\n",
       "<tr><td><div style=\"text-align:left; max-width:192px; max-height:64px; overflow:auto\">5</div></td><td><div style=\"text-align:left; max-width:192px; max-height:64px; overflow:auto\">Yummy!</div></td><td><div style=\"text-align:left; max-width:192px; max-height:64px; overflow:auto\">I had to make cornbread for my son's cubscouts banquet and we are now gluten free. I am not fond of cornbread usually but my son LOVES it.</div></td><td><div style=\"text-align:left; max-width:192px; max-height:64px; overflow:auto\">28</div></td></tr>\n",
       "<tr><td><div style=\"text-align:left; max-width:192px; max-height:64px; overflow:auto\">1</div></td><td><div style=\"text-align:left; max-width:192px; max-height:64px; overflow:auto\">Always rated at the very bottom of unbiased reviews.</div></td><td><div style=\"text-align:left; max-width:192px; max-height:64px; overflow:auto\">Please do some research yourself to find out that they are ALWAYS rated the worst food for your pet in unbiased reviews.&lt;br /&gt;&lt;br /&gt;The top ingredients for this product are crude meal and loads of grains.</div></td><td><div style=\"text-align:left; max-width:192px; max-height:64px; overflow:auto\">36</div></td></tr>\n",
       "<tr><td><div style=\"text-align:left; max-width:192px; max-height:64px; overflow:auto\">5</div></td><td><div style=\"text-align:left; max-width:192px; max-height:64px; overflow:auto\">My go-to coffee subsitute</div></td><td><div style=\"text-align:left; max-width:192px; max-height:64px; overflow:auto\">Dandelion root is reported to aid in reducing high blood pressure, which is why I drink it.  I've pretty much given up coffee drinking and this is a tasty substitute, though one must acquire a taste for it.</div></td><td><div style=\"text-align:left; max-width:192px; max-height:64px; overflow:auto\">39</div></td></tr>\n",
       "</tbody>\n",
       "</table>\n",
       "<small>(Showing first 8 rows)</small>\n",
       "</div>"
      ],
      "text/plain": [
       "╭───────┬────────────────────────────────┬────────────────────────────────┬─────────────────╮\n",
       "│ Score ┆ Summary                        ┆ Text                           ┆ num_tokens_text │\n",
       "│ ---   ┆ ---                            ┆ ---                            ┆ ---             │\n",
       "│ Int64 ┆ Utf8                           ┆ Utf8                           ┆ UInt64          │\n",
       "╞═══════╪════════════════════════════════╪════════════════════════════════╪═════════════════╡\n",
       "│ 4     ┆ Smell bad, but dogs don't min… ┆ This is a great product.  My … ┆ 18              │\n",
       "├╌╌╌╌╌╌╌┼╌╌╌╌╌╌╌╌╌╌╌╌╌╌╌╌╌╌╌╌╌╌╌╌╌╌╌╌╌╌╌╌┼╌╌╌╌╌╌╌╌╌╌╌╌╌╌╌╌╌╌╌╌╌╌╌╌╌╌╌╌╌╌╌╌┼╌╌╌╌╌╌╌╌╌╌╌╌╌╌╌╌╌┤\n",
       "│ 5     ┆ needed more                    ┆ I had bought some of this loc… ┆ 31              │\n",
       "├╌╌╌╌╌╌╌┼╌╌╌╌╌╌╌╌╌╌╌╌╌╌╌╌╌╌╌╌╌╌╌╌╌╌╌╌╌╌╌╌┼╌╌╌╌╌╌╌╌╌╌╌╌╌╌╌╌╌╌╌╌╌╌╌╌╌╌╌╌╌╌╌╌┼╌╌╌╌╌╌╌╌╌╌╌╌╌╌╌╌╌┤\n",
       "│ 1     ┆ a distant second               ┆ this is nowhere near the qual… ┆ 17              │\n",
       "├╌╌╌╌╌╌╌┼╌╌╌╌╌╌╌╌╌╌╌╌╌╌╌╌╌╌╌╌╌╌╌╌╌╌╌╌╌╌╌╌┼╌╌╌╌╌╌╌╌╌╌╌╌╌╌╌╌╌╌╌╌╌╌╌╌╌╌╌╌╌╌╌╌┼╌╌╌╌╌╌╌╌╌╌╌╌╌╌╌╌╌┤\n",
       "│ 1     ┆ Bait & Switch                  ┆ **Vine Voices will receive a … ┆ 13              │\n",
       "├╌╌╌╌╌╌╌┼╌╌╌╌╌╌╌╌╌╌╌╌╌╌╌╌╌╌╌╌╌╌╌╌╌╌╌╌╌╌╌╌┼╌╌╌╌╌╌╌╌╌╌╌╌╌╌╌╌╌╌╌╌╌╌╌╌╌╌╌╌╌╌╌╌┼╌╌╌╌╌╌╌╌╌╌╌╌╌╌╌╌╌┤\n",
       "│ 5     ┆ Edible Silver Leaf for Cakes/… ┆ Great product at a good price… ┆ 32              │\n",
       "├╌╌╌╌╌╌╌┼╌╌╌╌╌╌╌╌╌╌╌╌╌╌╌╌╌╌╌╌╌╌╌╌╌╌╌╌╌╌╌╌┼╌╌╌╌╌╌╌╌╌╌╌╌╌╌╌╌╌╌╌╌╌╌╌╌╌╌╌╌╌╌╌╌┼╌╌╌╌╌╌╌╌╌╌╌╌╌╌╌╌╌┤\n",
       "│ 5     ┆ Yummy!                         ┆ I had to make cornbread for m… ┆ 28              │\n",
       "├╌╌╌╌╌╌╌┼╌╌╌╌╌╌╌╌╌╌╌╌╌╌╌╌╌╌╌╌╌╌╌╌╌╌╌╌╌╌╌╌┼╌╌╌╌╌╌╌╌╌╌╌╌╌╌╌╌╌╌╌╌╌╌╌╌╌╌╌╌╌╌╌╌┼╌╌╌╌╌╌╌╌╌╌╌╌╌╌╌╌╌┤\n",
       "│ 1     ┆ Always rated at the very bott… ┆ Please do some research yours… ┆ 36              │\n",
       "├╌╌╌╌╌╌╌┼╌╌╌╌╌╌╌╌╌╌╌╌╌╌╌╌╌╌╌╌╌╌╌╌╌╌╌╌╌╌╌╌┼╌╌╌╌╌╌╌╌╌╌╌╌╌╌╌╌╌╌╌╌╌╌╌╌╌╌╌╌╌╌╌╌┼╌╌╌╌╌╌╌╌╌╌╌╌╌╌╌╌╌┤\n",
       "│ 5     ┆ My go-to coffee subsitute      ┆ Dandelion root is reported to… ┆ 39              │\n",
       "╰───────┴────────────────────────────────┴────────────────────────────────┴─────────────────╯\n",
       "\n",
       "(Showing first 8 rows)"
      ]
     },
     "metadata": {},
     "output_type": "display_data"
    }
   ],
   "source": [
    "dataset.show()"
   ]
  },
  {
   "cell_type": "code",
   "execution_count": 77,
   "metadata": {},
   "outputs": [],
   "source": [
    "dataset = dataset.with_column(\n",
    "    \"num_tokens_Summary\", dataset[\"Summary\"].str.split(\" \").list.length()\n",
    ").collect()\n"
   ]
  },
  {
   "cell_type": "code",
   "execution_count": 78,
   "metadata": {},
   "outputs": [
    {
     "data": {
      "text/html": [
       "<div>\n",
       "<table class=\"dataframe\">\n",
       "<thead><tr><th style=\"text-wrap: nowrap; max-width:192px; overflow:auto; text-align:left\">Score<br />Int64</th><th style=\"text-wrap: nowrap; max-width:192px; overflow:auto; text-align:left\">Summary<br />Utf8</th><th style=\"text-wrap: nowrap; max-width:192px; overflow:auto; text-align:left\">Text<br />Utf8</th><th style=\"text-wrap: nowrap; max-width:192px; overflow:auto; text-align:left\">num_tokens_text<br />UInt64</th><th style=\"text-wrap: nowrap; max-width:192px; overflow:auto; text-align:left\">num_tokens_Summary<br />UInt64</th></tr></thead>\n",
       "<tbody>\n",
       "<tr><td><div style=\"text-align:left; max-width:192px; max-height:64px; overflow:auto\">4</div></td><td><div style=\"text-align:left; max-width:192px; max-height:64px; overflow:auto\">Smell bad, but dogs don't mind</div></td><td><div style=\"text-align:left; max-width:192px; max-height:64px; overflow:auto\">This is a great product.  My dogs love chewing them and they last for a long time.</div></td><td><div style=\"text-align:left; max-width:192px; max-height:64px; overflow:auto\">18</div></td><td><div style=\"text-align:left; max-width:192px; max-height:64px; overflow:auto\">6</div></td></tr>\n",
       "<tr><td><div style=\"text-align:left; max-width:192px; max-height:64px; overflow:auto\">5</div></td><td><div style=\"text-align:left; max-width:192px; max-height:64px; overflow:auto\">needed more</div></td><td><div style=\"text-align:left; max-width:192px; max-height:64px; overflow:auto\">I had bought some of this locally and liked it so much that i had to lookk for a better price.  I have found the better price here on amazon.</div></td><td><div style=\"text-align:left; max-width:192px; max-height:64px; overflow:auto\">31</div></td><td><div style=\"text-align:left; max-width:192px; max-height:64px; overflow:auto\">2</div></td></tr>\n",
       "<tr><td><div style=\"text-align:left; max-width:192px; max-height:64px; overflow:auto\">1</div></td><td><div style=\"text-align:left; max-width:192px; max-height:64px; overflow:auto\">a distant second</div></td><td><div style=\"text-align:left; max-width:192px; max-height:64px; overflow:auto\">this is nowhere near the quality and taste of Splenda's french vanilla \"flavors for coffee\". &lt;a href=\"http://www.</div></td><td><div style=\"text-align:left; max-width:192px; max-height:64px; overflow:auto\">17</div></td><td><div style=\"text-align:left; max-width:192px; max-height:64px; overflow:auto\">3</div></td></tr>\n",
       "<tr><td><div style=\"text-align:left; max-width:192px; max-height:64px; overflow:auto\">1</div></td><td><div style=\"text-align:left; max-width:192px; max-height:64px; overflow:auto\">Bait &amp; Switch</div></td><td><div style=\"text-align:left; max-width:192px; max-height:64px; overflow:auto\">**Vine Voices will receive a total of 3 Lickety Stiks in separate flavors</div></td><td><div style=\"text-align:left; max-width:192px; max-height:64px; overflow:auto\">13</div></td><td><div style=\"text-align:left; max-width:192px; max-height:64px; overflow:auto\">3</div></td></tr>\n",
       "<tr><td><div style=\"text-align:left; max-width:192px; max-height:64px; overflow:auto\">5</div></td><td><div style=\"text-align:left; max-width:192px; max-height:64px; overflow:auto\">Edible Silver Leaf for Cakes/Candies</div></td><td><div style=\"text-align:left; max-width:192px; max-height:64px; overflow:auto\">Great product at a good price.  It used to be possible to buy edible silver and gold leaf (vark) at Indian groceries, but there seem to be problems nowadays importing it.</div></td><td><div style=\"text-align:left; max-width:192px; max-height:64px; overflow:auto\">32</div></td><td><div style=\"text-align:left; max-width:192px; max-height:64px; overflow:auto\">5</div></td></tr>\n",
       "<tr><td><div style=\"text-align:left; max-width:192px; max-height:64px; overflow:auto\">5</div></td><td><div style=\"text-align:left; max-width:192px; max-height:64px; overflow:auto\">Yummy!</div></td><td><div style=\"text-align:left; max-width:192px; max-height:64px; overflow:auto\">I had to make cornbread for my son's cubscouts banquet and we are now gluten free. I am not fond of cornbread usually but my son LOVES it.</div></td><td><div style=\"text-align:left; max-width:192px; max-height:64px; overflow:auto\">28</div></td><td><div style=\"text-align:left; max-width:192px; max-height:64px; overflow:auto\">1</div></td></tr>\n",
       "<tr><td><div style=\"text-align:left; max-width:192px; max-height:64px; overflow:auto\">1</div></td><td><div style=\"text-align:left; max-width:192px; max-height:64px; overflow:auto\">Always rated at the very bottom of unbiased reviews.</div></td><td><div style=\"text-align:left; max-width:192px; max-height:64px; overflow:auto\">Please do some research yourself to find out that they are ALWAYS rated the worst food for your pet in unbiased reviews.&lt;br /&gt;&lt;br /&gt;The top ingredients for this product are crude meal and loads of grains.</div></td><td><div style=\"text-align:left; max-width:192px; max-height:64px; overflow:auto\">36</div></td><td><div style=\"text-align:left; max-width:192px; max-height:64px; overflow:auto\">9</div></td></tr>\n",
       "<tr><td><div style=\"text-align:left; max-width:192px; max-height:64px; overflow:auto\">5</div></td><td><div style=\"text-align:left; max-width:192px; max-height:64px; overflow:auto\">My go-to coffee subsitute</div></td><td><div style=\"text-align:left; max-width:192px; max-height:64px; overflow:auto\">Dandelion root is reported to aid in reducing high blood pressure, which is why I drink it.  I've pretty much given up coffee drinking and this is a tasty substitute, though one must acquire a taste for it.</div></td><td><div style=\"text-align:left; max-width:192px; max-height:64px; overflow:auto\">39</div></td><td><div style=\"text-align:left; max-width:192px; max-height:64px; overflow:auto\">4</div></td></tr>\n",
       "</tbody>\n",
       "</table>\n",
       "<small>(Showing first 8 rows)</small>\n",
       "</div>"
      ],
      "text/plain": [
       "╭───────┬────────────────────────────────┬────────────────────────────────┬─────────────────┬────────────────────╮\n",
       "│ Score ┆ Summary                        ┆ Text                           ┆ num_tokens_text ┆ num_tokens_Summary │\n",
       "│ ---   ┆ ---                            ┆ ---                            ┆ ---             ┆ ---                │\n",
       "│ Int64 ┆ Utf8                           ┆ Utf8                           ┆ UInt64          ┆ UInt64             │\n",
       "╞═══════╪════════════════════════════════╪════════════════════════════════╪═════════════════╪════════════════════╡\n",
       "│ 4     ┆ Smell bad, but dogs don't min… ┆ This is a great product.  My … ┆ 18              ┆ 6                  │\n",
       "├╌╌╌╌╌╌╌┼╌╌╌╌╌╌╌╌╌╌╌╌╌╌╌╌╌╌╌╌╌╌╌╌╌╌╌╌╌╌╌╌┼╌╌╌╌╌╌╌╌╌╌╌╌╌╌╌╌╌╌╌╌╌╌╌╌╌╌╌╌╌╌╌╌┼╌╌╌╌╌╌╌╌╌╌╌╌╌╌╌╌╌┼╌╌╌╌╌╌╌╌╌╌╌╌╌╌╌╌╌╌╌╌┤\n",
       "│ 5     ┆ needed more                    ┆ I had bought some of this loc… ┆ 31              ┆ 2                  │\n",
       "├╌╌╌╌╌╌╌┼╌╌╌╌╌╌╌╌╌╌╌╌╌╌╌╌╌╌╌╌╌╌╌╌╌╌╌╌╌╌╌╌┼╌╌╌╌╌╌╌╌╌╌╌╌╌╌╌╌╌╌╌╌╌╌╌╌╌╌╌╌╌╌╌╌┼╌╌╌╌╌╌╌╌╌╌╌╌╌╌╌╌╌┼╌╌╌╌╌╌╌╌╌╌╌╌╌╌╌╌╌╌╌╌┤\n",
       "│ 1     ┆ a distant second               ┆ this is nowhere near the qual… ┆ 17              ┆ 3                  │\n",
       "├╌╌╌╌╌╌╌┼╌╌╌╌╌╌╌╌╌╌╌╌╌╌╌╌╌╌╌╌╌╌╌╌╌╌╌╌╌╌╌╌┼╌╌╌╌╌╌╌╌╌╌╌╌╌╌╌╌╌╌╌╌╌╌╌╌╌╌╌╌╌╌╌╌┼╌╌╌╌╌╌╌╌╌╌╌╌╌╌╌╌╌┼╌╌╌╌╌╌╌╌╌╌╌╌╌╌╌╌╌╌╌╌┤\n",
       "│ 1     ┆ Bait & Switch                  ┆ **Vine Voices will receive a … ┆ 13              ┆ 3                  │\n",
       "├╌╌╌╌╌╌╌┼╌╌╌╌╌╌╌╌╌╌╌╌╌╌╌╌╌╌╌╌╌╌╌╌╌╌╌╌╌╌╌╌┼╌╌╌╌╌╌╌╌╌╌╌╌╌╌╌╌╌╌╌╌╌╌╌╌╌╌╌╌╌╌╌╌┼╌╌╌╌╌╌╌╌╌╌╌╌╌╌╌╌╌┼╌╌╌╌╌╌╌╌╌╌╌╌╌╌╌╌╌╌╌╌┤\n",
       "│ 5     ┆ Edible Silver Leaf for Cakes/… ┆ Great product at a good price… ┆ 32              ┆ 5                  │\n",
       "├╌╌╌╌╌╌╌┼╌╌╌╌╌╌╌╌╌╌╌╌╌╌╌╌╌╌╌╌╌╌╌╌╌╌╌╌╌╌╌╌┼╌╌╌╌╌╌╌╌╌╌╌╌╌╌╌╌╌╌╌╌╌╌╌╌╌╌╌╌╌╌╌╌┼╌╌╌╌╌╌╌╌╌╌╌╌╌╌╌╌╌┼╌╌╌╌╌╌╌╌╌╌╌╌╌╌╌╌╌╌╌╌┤\n",
       "│ 5     ┆ Yummy!                         ┆ I had to make cornbread for m… ┆ 28              ┆ 1                  │\n",
       "├╌╌╌╌╌╌╌┼╌╌╌╌╌╌╌╌╌╌╌╌╌╌╌╌╌╌╌╌╌╌╌╌╌╌╌╌╌╌╌╌┼╌╌╌╌╌╌╌╌╌╌╌╌╌╌╌╌╌╌╌╌╌╌╌╌╌╌╌╌╌╌╌╌┼╌╌╌╌╌╌╌╌╌╌╌╌╌╌╌╌╌┼╌╌╌╌╌╌╌╌╌╌╌╌╌╌╌╌╌╌╌╌┤\n",
       "│ 1     ┆ Always rated at the very bott… ┆ Please do some research yours… ┆ 36              ┆ 9                  │\n",
       "├╌╌╌╌╌╌╌┼╌╌╌╌╌╌╌╌╌╌╌╌╌╌╌╌╌╌╌╌╌╌╌╌╌╌╌╌╌╌╌╌┼╌╌╌╌╌╌╌╌╌╌╌╌╌╌╌╌╌╌╌╌╌╌╌╌╌╌╌╌╌╌╌╌┼╌╌╌╌╌╌╌╌╌╌╌╌╌╌╌╌╌┼╌╌╌╌╌╌╌╌╌╌╌╌╌╌╌╌╌╌╌╌┤\n",
       "│ 5     ┆ My go-to coffee subsitute      ┆ Dandelion root is reported to… ┆ 39              ┆ 4                  │\n",
       "╰───────┴────────────────────────────────┴────────────────────────────────┴─────────────────┴────────────────────╯\n",
       "\n",
       "(Showing first 8 rows)"
      ]
     },
     "metadata": {},
     "output_type": "display_data"
    }
   ],
   "source": [
    "dataset.show()"
   ]
  },
  {
   "cell_type": "code",
   "execution_count": null,
   "metadata": {},
   "outputs": [],
   "source": [
    "from collections import Counter\n",
    "\n",
    "# Convert to Pandas to extract values\n",
    "num_tokens_list = dataset.to_pandas()[\"num_tokens_text\"]\n",
    "\n",
    "# Count occurrences\n",
    "token_count_frequency = Counter(num_tokens_list)\n",
    "\n",
    "# Sort dictionary\n",
    "token_count_frequency = dict(sorted(token_count_frequency.items()))\n",
    "\n",
    "# Convert back to Daft DataFrame\n",
    "text_frequency = daft.from_pydict({\"num_tokens_text\": list(token_count_frequency.keys()), \n",
    "                                   \"count\": list(token_count_frequency.values())})\n"
   ]
  },
  {
   "cell_type": "code",
   "execution_count": 83,
   "metadata": {},
   "outputs": [
    {
     "data": {
      "text/html": [
       "<div>\n",
       "<table class=\"dataframe\">\n",
       "<thead><tr><th style=\"text-wrap: nowrap; max-width:192px; overflow:auto; text-align:left\">num_tokens_text<br />Int64</th><th style=\"text-wrap: nowrap; max-width:192px; overflow:auto; text-align:left\">count<br />Int64</th></tr></thead>\n",
       "<tbody>\n",
       "<tr><td><div style=\"text-align:left; max-width:192px; max-height:64px; overflow:auto\">1</div></td><td><div style=\"text-align:left; max-width:192px; max-height:64px; overflow:auto\">131</div></td></tr>\n",
       "<tr><td><div style=\"text-align:left; max-width:192px; max-height:64px; overflow:auto\">2</div></td><td><div style=\"text-align:left; max-width:192px; max-height:64px; overflow:auto\">101</div></td></tr>\n",
       "<tr><td><div style=\"text-align:left; max-width:192px; max-height:64px; overflow:auto\">3</div></td><td><div style=\"text-align:left; max-width:192px; max-height:64px; overflow:auto\">42</div></td></tr>\n",
       "<tr><td><div style=\"text-align:left; max-width:192px; max-height:64px; overflow:auto\">4</div></td><td><div style=\"text-align:left; max-width:192px; max-height:64px; overflow:auto\">77</div></td></tr>\n",
       "<tr><td><div style=\"text-align:left; max-width:192px; max-height:64px; overflow:auto\">5</div></td><td><div style=\"text-align:left; max-width:192px; max-height:64px; overflow:auto\">96</div></td></tr>\n",
       "<tr><td>...</td><td>...</td></tr>\n",
       "<tr><td><div style=\"text-align:left; max-width:192px; max-height:64px; overflow:auto\">24</td><td><div style=\"text-align:left; max-width:192px; max-height:64px; overflow:auto\">742</td></tr>\n",
       "<tr><td><div style=\"text-align:left; max-width:192px; max-height:64px; overflow:auto\">25</td><td><div style=\"text-align:left; max-width:192px; max-height:64px; overflow:auto\">694</td></tr>\n",
       "<tr><td><div style=\"text-align:left; max-width:192px; max-height:64px; overflow:auto\">26</td><td><div style=\"text-align:left; max-width:192px; max-height:64px; overflow:auto\">696</td></tr>\n",
       "<tr><td><div style=\"text-align:left; max-width:192px; max-height:64px; overflow:auto\">27</td><td><div style=\"text-align:left; max-width:192px; max-height:64px; overflow:auto\">689</td></tr>\n",
       "<tr><td><div style=\"text-align:left; max-width:192px; max-height:64px; overflow:auto\">28</td><td><div style=\"text-align:left; max-width:192px; max-height:64px; overflow:auto\">674</td></tr>\n",
       "</tbody>\n",
       "</table>\n",
       "<small>(Showing first 28 of 128 rows)</small>\n",
       "</div>"
      ],
      "text/plain": [
       "╭─────────────────┬───────╮\n",
       "│ num_tokens_text ┆ count │\n",
       "│ ---             ┆ ---   │\n",
       "│ Int64           ┆ Int64 │\n",
       "╞═════════════════╪═══════╡\n",
       "│ 1               ┆ 131   │\n",
       "├╌╌╌╌╌╌╌╌╌╌╌╌╌╌╌╌╌┼╌╌╌╌╌╌╌┤\n",
       "│ 2               ┆ 101   │\n",
       "├╌╌╌╌╌╌╌╌╌╌╌╌╌╌╌╌╌┼╌╌╌╌╌╌╌┤\n",
       "│ 3               ┆ 42    │\n",
       "├╌╌╌╌╌╌╌╌╌╌╌╌╌╌╌╌╌┼╌╌╌╌╌╌╌┤\n",
       "│ 4               ┆ 77    │\n",
       "├╌╌╌╌╌╌╌╌╌╌╌╌╌╌╌╌╌┼╌╌╌╌╌╌╌┤\n",
       "│ 5               ┆ 96    │\n",
       "├╌╌╌╌╌╌╌╌╌╌╌╌╌╌╌╌╌┼╌╌╌╌╌╌╌┤\n",
       "│ …               ┆ …     │\n",
       "├╌╌╌╌╌╌╌╌╌╌╌╌╌╌╌╌╌┼╌╌╌╌╌╌╌┤\n",
       "│ 24              ┆ 742   │\n",
       "├╌╌╌╌╌╌╌╌╌╌╌╌╌╌╌╌╌┼╌╌╌╌╌╌╌┤\n",
       "│ 25              ┆ 694   │\n",
       "├╌╌╌╌╌╌╌╌╌╌╌╌╌╌╌╌╌┼╌╌╌╌╌╌╌┤\n",
       "│ 26              ┆ 696   │\n",
       "├╌╌╌╌╌╌╌╌╌╌╌╌╌╌╌╌╌┼╌╌╌╌╌╌╌┤\n",
       "│ 27              ┆ 689   │\n",
       "├╌╌╌╌╌╌╌╌╌╌╌╌╌╌╌╌╌┼╌╌╌╌╌╌╌┤\n",
       "│ 28              ┆ 674   │\n",
       "╰─────────────────┴───────╯\n",
       "\n",
       "(Showing first 28 of 128 rows)"
      ]
     },
     "metadata": {},
     "output_type": "display_data"
    }
   ],
   "source": [
    "text_frequency.show(28)"
   ]
  },
  {
   "cell_type": "code",
   "execution_count": null,
   "metadata": {},
   "outputs": [],
   "source": []
  }
 ],
 "metadata": {
  "kernelspec": {
   "display_name": "sentiment-ai",
   "language": "python",
   "name": "python3"
  },
  "language_info": {
   "codemirror_mode": {
    "name": "ipython",
    "version": 3
   },
   "file_extension": ".py",
   "mimetype": "text/x-python",
   "name": "python",
   "nbconvert_exporter": "python",
   "pygments_lexer": "ipython3",
   "version": "3.12.1"
  }
 },
 "nbformat": 4,
 "nbformat_minor": 2
}
